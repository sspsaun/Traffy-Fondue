{
  "nbformat": 4,
  "nbformat_minor": 0,
  "metadata": {
    "colab": {
      "provenance": []
    },
    "kernelspec": {
      "name": "python3",
      "display_name": "Python 3"
    },
    "language_info": {
      "name": "python"
    }
  },
  "cells": [
    {
      "cell_type": "markdown",
      "source": [
        "# **Text Classification (Multi-label)**"
      ],
      "metadata": {
        "id": "yaBwhipPrCDA"
      }
    },
    {
      "cell_type": "markdown",
      "source": [
        "# Install&Import"
      ],
      "metadata": {
        "id": "KGCtLuNBZf2L"
      }
    },
    {
      "cell_type": "code",
      "source": [
        "!pip install --upgrade pythainlp\n",
        "!pip install stop_words\n",
        "!pip install deepcut\n",
        "!wget -q https://github.com/Phonbopit/sarabun-webfont/raw/master/fonts/thsarabunnew-webfont.ttf"
      ],
      "metadata": {
        "colab": {
          "base_uri": "https://localhost:8080/"
        },
        "id": "ULHIrmUBR5a_",
        "outputId": "d19af6e1-a580-4cdc-d923-7ea62927569b"
      },
      "execution_count": null,
      "outputs": [
        {
          "output_type": "stream",
          "name": "stdout",
          "text": [
            "Looking in indexes: https://pypi.org/simple, https://us-python.pkg.dev/colab-wheels/public/simple/\n",
            "Requirement already satisfied: pythainlp in /usr/local/lib/python3.8/dist-packages (3.1.1)\n",
            "Requirement already satisfied: requests>=2.22.0 in /usr/local/lib/python3.8/dist-packages (from pythainlp) (2.23.0)\n",
            "Requirement already satisfied: urllib3!=1.25.0,!=1.25.1,<1.26,>=1.21.1 in /usr/local/lib/python3.8/dist-packages (from requests>=2.22.0->pythainlp) (1.24.3)\n",
            "Requirement already satisfied: chardet<4,>=3.0.2 in /usr/local/lib/python3.8/dist-packages (from requests>=2.22.0->pythainlp) (3.0.4)\n",
            "Requirement already satisfied: idna<3,>=2.5 in /usr/local/lib/python3.8/dist-packages (from requests>=2.22.0->pythainlp) (2.10)\n",
            "Requirement already satisfied: certifi>=2017.4.17 in /usr/local/lib/python3.8/dist-packages (from requests>=2.22.0->pythainlp) (2022.9.24)\n",
            "Looking in indexes: https://pypi.org/simple, https://us-python.pkg.dev/colab-wheels/public/simple/\n",
            "Requirement already satisfied: stop_words in /usr/local/lib/python3.8/dist-packages (2018.7.23)\n",
            "Looking in indexes: https://pypi.org/simple, https://us-python.pkg.dev/colab-wheels/public/simple/\n",
            "Requirement already satisfied: deepcut in /usr/local/lib/python3.8/dist-packages (0.7.0.0)\n",
            "Requirement already satisfied: tensorflow>=2.0.0 in /usr/local/lib/python3.8/dist-packages (from deepcut) (2.9.2)\n",
            "Requirement already satisfied: scipy in /usr/local/lib/python3.8/dist-packages (from deepcut) (1.7.3)\n",
            "Requirement already satisfied: pandas in /usr/local/lib/python3.8/dist-packages (from deepcut) (1.3.5)\n",
            "Requirement already satisfied: numpy in /usr/local/lib/python3.8/dist-packages (from deepcut) (1.21.6)\n",
            "Requirement already satisfied: h5py in /usr/local/lib/python3.8/dist-packages (from deepcut) (3.1.0)\n",
            "Requirement already satisfied: scikit-learn in /usr/local/lib/python3.8/dist-packages (from deepcut) (1.0.2)\n",
            "Requirement already satisfied: libclang>=13.0.0 in /usr/local/lib/python3.8/dist-packages (from tensorflow>=2.0.0->deepcut) (14.0.6)\n",
            "Requirement already satisfied: six>=1.12.0 in /usr/local/lib/python3.8/dist-packages (from tensorflow>=2.0.0->deepcut) (1.15.0)\n",
            "Requirement already satisfied: tensorboard<2.10,>=2.9 in /usr/local/lib/python3.8/dist-packages (from tensorflow>=2.0.0->deepcut) (2.9.1)\n",
            "Requirement already satisfied: termcolor>=1.1.0 in /usr/local/lib/python3.8/dist-packages (from tensorflow>=2.0.0->deepcut) (2.1.1)\n",
            "Requirement already satisfied: packaging in /usr/local/lib/python3.8/dist-packages (from tensorflow>=2.0.0->deepcut) (21.3)\n",
            "Requirement already satisfied: keras-preprocessing>=1.1.1 in /usr/local/lib/python3.8/dist-packages (from tensorflow>=2.0.0->deepcut) (1.1.2)\n",
            "Requirement already satisfied: opt-einsum>=2.3.2 in /usr/local/lib/python3.8/dist-packages (from tensorflow>=2.0.0->deepcut) (3.3.0)\n",
            "Requirement already satisfied: setuptools in /usr/local/lib/python3.8/dist-packages (from tensorflow>=2.0.0->deepcut) (57.4.0)\n",
            "Requirement already satisfied: google-pasta>=0.1.1 in /usr/local/lib/python3.8/dist-packages (from tensorflow>=2.0.0->deepcut) (0.2.0)\n",
            "Requirement already satisfied: flatbuffers<2,>=1.12 in /usr/local/lib/python3.8/dist-packages (from tensorflow>=2.0.0->deepcut) (1.12)\n",
            "Requirement already satisfied: tensorflow-io-gcs-filesystem>=0.23.1 in /usr/local/lib/python3.8/dist-packages (from tensorflow>=2.0.0->deepcut) (0.28.0)\n",
            "Requirement already satisfied: tensorflow-estimator<2.10.0,>=2.9.0rc0 in /usr/local/lib/python3.8/dist-packages (from tensorflow>=2.0.0->deepcut) (2.9.0)\n",
            "Requirement already satisfied: gast<=0.4.0,>=0.2.1 in /usr/local/lib/python3.8/dist-packages (from tensorflow>=2.0.0->deepcut) (0.4.0)\n",
            "Requirement already satisfied: protobuf<3.20,>=3.9.2 in /usr/local/lib/python3.8/dist-packages (from tensorflow>=2.0.0->deepcut) (3.19.6)\n",
            "Requirement already satisfied: typing-extensions>=3.6.6 in /usr/local/lib/python3.8/dist-packages (from tensorflow>=2.0.0->deepcut) (4.4.0)\n",
            "Requirement already satisfied: grpcio<2.0,>=1.24.3 in /usr/local/lib/python3.8/dist-packages (from tensorflow>=2.0.0->deepcut) (1.51.1)\n",
            "Requirement already satisfied: astunparse>=1.6.0 in /usr/local/lib/python3.8/dist-packages (from tensorflow>=2.0.0->deepcut) (1.6.3)\n",
            "Requirement already satisfied: keras<2.10.0,>=2.9.0rc0 in /usr/local/lib/python3.8/dist-packages (from tensorflow>=2.0.0->deepcut) (2.9.0)\n",
            "Requirement already satisfied: wrapt>=1.11.0 in /usr/local/lib/python3.8/dist-packages (from tensorflow>=2.0.0->deepcut) (1.14.1)\n",
            "Requirement already satisfied: absl-py>=1.0.0 in /usr/local/lib/python3.8/dist-packages (from tensorflow>=2.0.0->deepcut) (1.3.0)\n",
            "Requirement already satisfied: wheel<1.0,>=0.23.0 in /usr/local/lib/python3.8/dist-packages (from astunparse>=1.6.0->tensorflow>=2.0.0->deepcut) (0.38.4)\n",
            "Requirement already satisfied: requests<3,>=2.21.0 in /usr/local/lib/python3.8/dist-packages (from tensorboard<2.10,>=2.9->tensorflow>=2.0.0->deepcut) (2.23.0)\n",
            "Requirement already satisfied: google-auth<3,>=1.6.3 in /usr/local/lib/python3.8/dist-packages (from tensorboard<2.10,>=2.9->tensorflow>=2.0.0->deepcut) (2.15.0)\n",
            "Requirement already satisfied: tensorboard-data-server<0.7.0,>=0.6.0 in /usr/local/lib/python3.8/dist-packages (from tensorboard<2.10,>=2.9->tensorflow>=2.0.0->deepcut) (0.6.1)\n",
            "Requirement already satisfied: google-auth-oauthlib<0.5,>=0.4.1 in /usr/local/lib/python3.8/dist-packages (from tensorboard<2.10,>=2.9->tensorflow>=2.0.0->deepcut) (0.4.6)\n",
            "Requirement already satisfied: markdown>=2.6.8 in /usr/local/lib/python3.8/dist-packages (from tensorboard<2.10,>=2.9->tensorflow>=2.0.0->deepcut) (3.4.1)\n",
            "Requirement already satisfied: werkzeug>=1.0.1 in /usr/local/lib/python3.8/dist-packages (from tensorboard<2.10,>=2.9->tensorflow>=2.0.0->deepcut) (1.0.1)\n",
            "Requirement already satisfied: tensorboard-plugin-wit>=1.6.0 in /usr/local/lib/python3.8/dist-packages (from tensorboard<2.10,>=2.9->tensorflow>=2.0.0->deepcut) (1.8.1)\n",
            "Requirement already satisfied: cachetools<6.0,>=2.0.0 in /usr/local/lib/python3.8/dist-packages (from google-auth<3,>=1.6.3->tensorboard<2.10,>=2.9->tensorflow>=2.0.0->deepcut) (5.2.0)\n",
            "Requirement already satisfied: rsa<5,>=3.1.4 in /usr/local/lib/python3.8/dist-packages (from google-auth<3,>=1.6.3->tensorboard<2.10,>=2.9->tensorflow>=2.0.0->deepcut) (4.9)\n",
            "Requirement already satisfied: pyasn1-modules>=0.2.1 in /usr/local/lib/python3.8/dist-packages (from google-auth<3,>=1.6.3->tensorboard<2.10,>=2.9->tensorflow>=2.0.0->deepcut) (0.2.8)\n",
            "Requirement already satisfied: requests-oauthlib>=0.7.0 in /usr/local/lib/python3.8/dist-packages (from google-auth-oauthlib<0.5,>=0.4.1->tensorboard<2.10,>=2.9->tensorflow>=2.0.0->deepcut) (1.3.1)\n",
            "Requirement already satisfied: importlib-metadata>=4.4 in /usr/local/lib/python3.8/dist-packages (from markdown>=2.6.8->tensorboard<2.10,>=2.9->tensorflow>=2.0.0->deepcut) (4.13.0)\n",
            "Requirement already satisfied: zipp>=0.5 in /usr/local/lib/python3.8/dist-packages (from importlib-metadata>=4.4->markdown>=2.6.8->tensorboard<2.10,>=2.9->tensorflow>=2.0.0->deepcut) (3.11.0)\n",
            "Requirement already satisfied: pyasn1<0.5.0,>=0.4.6 in /usr/local/lib/python3.8/dist-packages (from pyasn1-modules>=0.2.1->google-auth<3,>=1.6.3->tensorboard<2.10,>=2.9->tensorflow>=2.0.0->deepcut) (0.4.8)\n",
            "Requirement already satisfied: certifi>=2017.4.17 in /usr/local/lib/python3.8/dist-packages (from requests<3,>=2.21.0->tensorboard<2.10,>=2.9->tensorflow>=2.0.0->deepcut) (2022.9.24)\n",
            "Requirement already satisfied: urllib3!=1.25.0,!=1.25.1,<1.26,>=1.21.1 in /usr/local/lib/python3.8/dist-packages (from requests<3,>=2.21.0->tensorboard<2.10,>=2.9->tensorflow>=2.0.0->deepcut) (1.24.3)\n",
            "Requirement already satisfied: idna<3,>=2.5 in /usr/local/lib/python3.8/dist-packages (from requests<3,>=2.21.0->tensorboard<2.10,>=2.9->tensorflow>=2.0.0->deepcut) (2.10)\n",
            "Requirement already satisfied: chardet<4,>=3.0.2 in /usr/local/lib/python3.8/dist-packages (from requests<3,>=2.21.0->tensorboard<2.10,>=2.9->tensorflow>=2.0.0->deepcut) (3.0.4)\n",
            "Requirement already satisfied: oauthlib>=3.0.0 in /usr/local/lib/python3.8/dist-packages (from requests-oauthlib>=0.7.0->google-auth-oauthlib<0.5,>=0.4.1->tensorboard<2.10,>=2.9->tensorflow>=2.0.0->deepcut) (3.2.2)\n",
            "Requirement already satisfied: pyparsing!=3.0.5,>=2.0.2 in /usr/local/lib/python3.8/dist-packages (from packaging->tensorflow>=2.0.0->deepcut) (3.0.9)\n",
            "Requirement already satisfied: pytz>=2017.3 in /usr/local/lib/python3.8/dist-packages (from pandas->deepcut) (2022.6)\n",
            "Requirement already satisfied: python-dateutil>=2.7.3 in /usr/local/lib/python3.8/dist-packages (from pandas->deepcut) (2.8.2)\n",
            "Requirement already satisfied: joblib>=0.11 in /usr/local/lib/python3.8/dist-packages (from scikit-learn->deepcut) (1.2.0)\n",
            "Requirement already satisfied: threadpoolctl>=2.0.0 in /usr/local/lib/python3.8/dist-packages (from scikit-learn->deepcut) (3.1.0)\n"
          ]
        }
      ]
    },
    {
      "cell_type": "code",
      "execution_count": null,
      "metadata": {
        "id": "cuzLxVJmodyb"
      },
      "outputs": [],
      "source": [
        "# สำหรับการจัดการข้อมูล\n",
        "import pandas as pd\n",
        "import numpy as np\n",
        "import re\n",
        "\n",
        "# สำหรับการจัดการข้อความภาษาไทย\n",
        "import pythainlp\n",
        "from pythainlp import word_tokenize\n",
        "from pythainlp.corpus import thai_stopwords\n",
        "from pythainlp.corpus import wordnet\n",
        "from nltk.stem.porter import PorterStemmer\n",
        "from nltk.corpus import words\n",
        "from stop_words import get_stop_words\n",
        "import nltk\n",
        "from sklearn.feature_extraction.text import TfidfTransformer, TfidfVectorizer, CountVectorizer\n",
        "\n",
        "# สำหรับการทำ Model\n",
        "from sklearn.model_selection import train_test_split, RandomizedSearchCV, GridSearchCV, cross_val_score\n",
        "from sklearn.pipeline import Pipeline\n",
        "from sklearn.ensemble import RandomForestClassifier\n",
        "from sklearn.tree import DecisionTreeClassifier\n",
        "from sklearn.neighbors import KNeighborsClassifier\n",
        "from sklearn.model_selection import RepeatedStratifiedKFold\n",
        "from sklearn.model_selection import cross_val_score\n",
        "from sklearn.metrics import accuracy_score, f1_score, hamming_loss, make_scorer\n",
        "from sklearn import metrics\n",
        "from sklearn.metrics import classification_report, confusion_matrix, accuracy_score, roc_curve, auc\n",
        "\n",
        "# สำหรับการแสดงผลในรูปแบบแผนภาพ\n",
        "import matplotlib.pyplot as plt\n",
        "import seaborn as sns\n",
        "%matplotlib inline\n",
        "matplotlib.font_manager.fontManager.addfont('thsarabunnew-webfont.ttf')\n",
        "plt.rc('font', family='TH Sarabun New', size=10)"
      ]
    },
    {
      "cell_type": "code",
      "source": [
        "nltk.download('words')\n",
        "nltk.download('omw-1.4')\n",
        "th_stop = tuple(thai_stopwords())\n",
        "en_stop = tuple(get_stop_words('en'))\n",
        "p_stemmer = PorterStemmer()"
      ],
      "metadata": {
        "id": "H3_trlXFvaXF",
        "colab": {
          "base_uri": "https://localhost:8080/"
        },
        "outputId": "adb77e61-dfab-47a2-f9c8-6e2586d251c6"
      },
      "execution_count": null,
      "outputs": [
        {
          "output_type": "stream",
          "name": "stderr",
          "text": [
            "[nltk_data] Downloading package words to /root/nltk_data...\n",
            "[nltk_data]   Package words is already up-to-date!\n",
            "[nltk_data] Downloading package omw-1.4 to /root/nltk_data...\n",
            "[nltk_data]   Package omw-1.4 is already up-to-date!\n"
          ]
        }
      ]
    },
    {
      "cell_type": "markdown",
      "source": [
        "# Load Data"
      ],
      "metadata": {
        "id": "c4gOX-XJbKhH"
      }
    },
    {
      "cell_type": "code",
      "source": [
        "traffy = pd.read_csv(\"/content/traffy_assignment_unique.csv\")"
      ],
      "metadata": {
        "id": "Fdk3en4jrJAY"
      },
      "execution_count": null,
      "outputs": []
    },
    {
      "cell_type": "code",
      "source": [
        "# จำนวนของแต่ละประเภทปัญหาที่ถูกร้องเรียน\n",
        "counts = []\n",
        "problem = list(traffy.columns.values)\n",
        "for i in problem[2:]:\n",
        "  counts.append((i, traffy[i].sum()))\n",
        "problem = pd.DataFrame(counts, columns = [\"ปัญหา\", \"จำนวน\"])\n",
        "problem"
      ],
      "metadata": {
        "colab": {
          "base_uri": "https://localhost:8080/",
          "height": 771
        },
        "id": "AluDJOg1K1I_",
        "outputId": "e757a473-034e-4a99-cac2-e2d929abbac2"
      },
      "execution_count": null,
      "outputs": [
        {
          "output_type": "execute_result",
          "data": {
            "text/plain": [
              "          ปัญหา  จำนวน\n",
              "0    การเดินทาง    119\n",
              "1       กีดขวาง   1044\n",
              "2       คนจรจัด     94\n",
              "3          คลอง     95\n",
              "4   ความปลอดภัย   1782\n",
              "5     ความสะอาด    548\n",
              "6         จราจร    965\n",
              "7        ต้นไม้    394\n",
              "8           ถนน   1212\n",
              "9       ทางเท้า   1001\n",
              "10  ท่อระบายน้ำ    409\n",
              "11      น้ำท่วม   1101\n",
              "12         ป้าย    137\n",
              "13    ป้ายจราจร     53\n",
              "14    ร้องเรียน   2836\n",
              "15       สอบถาม    142\n",
              "16        สะพาน    109\n",
              "17   สัตว์จรจัด    145\n",
              "18        สายไฟ    569\n",
              "19      ห้องน้ำ     24\n",
              "20      เสนอแนะ    253\n",
              "21   เสียงรบกวน    336\n",
              "22     แสงสว่าง    912"
            ],
            "text/html": [
              "\n",
              "  <div id=\"df-aa6560ec-d82f-44f5-9690-89b97f18cda1\">\n",
              "    <div class=\"colab-df-container\">\n",
              "      <div>\n",
              "<style scoped>\n",
              "    .dataframe tbody tr th:only-of-type {\n",
              "        vertical-align: middle;\n",
              "    }\n",
              "\n",
              "    .dataframe tbody tr th {\n",
              "        vertical-align: top;\n",
              "    }\n",
              "\n",
              "    .dataframe thead th {\n",
              "        text-align: right;\n",
              "    }\n",
              "</style>\n",
              "<table border=\"1\" class=\"dataframe\">\n",
              "  <thead>\n",
              "    <tr style=\"text-align: right;\">\n",
              "      <th></th>\n",
              "      <th>ปัญหา</th>\n",
              "      <th>จำนวน</th>\n",
              "    </tr>\n",
              "  </thead>\n",
              "  <tbody>\n",
              "    <tr>\n",
              "      <th>0</th>\n",
              "      <td>การเดินทาง</td>\n",
              "      <td>119</td>\n",
              "    </tr>\n",
              "    <tr>\n",
              "      <th>1</th>\n",
              "      <td>กีดขวาง</td>\n",
              "      <td>1044</td>\n",
              "    </tr>\n",
              "    <tr>\n",
              "      <th>2</th>\n",
              "      <td>คนจรจัด</td>\n",
              "      <td>94</td>\n",
              "    </tr>\n",
              "    <tr>\n",
              "      <th>3</th>\n",
              "      <td>คลอง</td>\n",
              "      <td>95</td>\n",
              "    </tr>\n",
              "    <tr>\n",
              "      <th>4</th>\n",
              "      <td>ความปลอดภัย</td>\n",
              "      <td>1782</td>\n",
              "    </tr>\n",
              "    <tr>\n",
              "      <th>5</th>\n",
              "      <td>ความสะอาด</td>\n",
              "      <td>548</td>\n",
              "    </tr>\n",
              "    <tr>\n",
              "      <th>6</th>\n",
              "      <td>จราจร</td>\n",
              "      <td>965</td>\n",
              "    </tr>\n",
              "    <tr>\n",
              "      <th>7</th>\n",
              "      <td>ต้นไม้</td>\n",
              "      <td>394</td>\n",
              "    </tr>\n",
              "    <tr>\n",
              "      <th>8</th>\n",
              "      <td>ถนน</td>\n",
              "      <td>1212</td>\n",
              "    </tr>\n",
              "    <tr>\n",
              "      <th>9</th>\n",
              "      <td>ทางเท้า</td>\n",
              "      <td>1001</td>\n",
              "    </tr>\n",
              "    <tr>\n",
              "      <th>10</th>\n",
              "      <td>ท่อระบายน้ำ</td>\n",
              "      <td>409</td>\n",
              "    </tr>\n",
              "    <tr>\n",
              "      <th>11</th>\n",
              "      <td>น้ำท่วม</td>\n",
              "      <td>1101</td>\n",
              "    </tr>\n",
              "    <tr>\n",
              "      <th>12</th>\n",
              "      <td>ป้าย</td>\n",
              "      <td>137</td>\n",
              "    </tr>\n",
              "    <tr>\n",
              "      <th>13</th>\n",
              "      <td>ป้ายจราจร</td>\n",
              "      <td>53</td>\n",
              "    </tr>\n",
              "    <tr>\n",
              "      <th>14</th>\n",
              "      <td>ร้องเรียน</td>\n",
              "      <td>2836</td>\n",
              "    </tr>\n",
              "    <tr>\n",
              "      <th>15</th>\n",
              "      <td>สอบถาม</td>\n",
              "      <td>142</td>\n",
              "    </tr>\n",
              "    <tr>\n",
              "      <th>16</th>\n",
              "      <td>สะพาน</td>\n",
              "      <td>109</td>\n",
              "    </tr>\n",
              "    <tr>\n",
              "      <th>17</th>\n",
              "      <td>สัตว์จรจัด</td>\n",
              "      <td>145</td>\n",
              "    </tr>\n",
              "    <tr>\n",
              "      <th>18</th>\n",
              "      <td>สายไฟ</td>\n",
              "      <td>569</td>\n",
              "    </tr>\n",
              "    <tr>\n",
              "      <th>19</th>\n",
              "      <td>ห้องน้ำ</td>\n",
              "      <td>24</td>\n",
              "    </tr>\n",
              "    <tr>\n",
              "      <th>20</th>\n",
              "      <td>เสนอแนะ</td>\n",
              "      <td>253</td>\n",
              "    </tr>\n",
              "    <tr>\n",
              "      <th>21</th>\n",
              "      <td>เสียงรบกวน</td>\n",
              "      <td>336</td>\n",
              "    </tr>\n",
              "    <tr>\n",
              "      <th>22</th>\n",
              "      <td>แสงสว่าง</td>\n",
              "      <td>912</td>\n",
              "    </tr>\n",
              "  </tbody>\n",
              "</table>\n",
              "</div>\n",
              "      <button class=\"colab-df-convert\" onclick=\"convertToInteractive('df-aa6560ec-d82f-44f5-9690-89b97f18cda1')\"\n",
              "              title=\"Convert this dataframe to an interactive table.\"\n",
              "              style=\"display:none;\">\n",
              "        \n",
              "  <svg xmlns=\"http://www.w3.org/2000/svg\" height=\"24px\"viewBox=\"0 0 24 24\"\n",
              "       width=\"24px\">\n",
              "    <path d=\"M0 0h24v24H0V0z\" fill=\"none\"/>\n",
              "    <path d=\"M18.56 5.44l.94 2.06.94-2.06 2.06-.94-2.06-.94-.94-2.06-.94 2.06-2.06.94zm-11 1L8.5 8.5l.94-2.06 2.06-.94-2.06-.94L8.5 2.5l-.94 2.06-2.06.94zm10 10l.94 2.06.94-2.06 2.06-.94-2.06-.94-.94-2.06-.94 2.06-2.06.94z\"/><path d=\"M17.41 7.96l-1.37-1.37c-.4-.4-.92-.59-1.43-.59-.52 0-1.04.2-1.43.59L10.3 9.45l-7.72 7.72c-.78.78-.78 2.05 0 2.83L4 21.41c.39.39.9.59 1.41.59.51 0 1.02-.2 1.41-.59l7.78-7.78 2.81-2.81c.8-.78.8-2.07 0-2.86zM5.41 20L4 18.59l7.72-7.72 1.47 1.35L5.41 20z\"/>\n",
              "  </svg>\n",
              "      </button>\n",
              "      \n",
              "  <style>\n",
              "    .colab-df-container {\n",
              "      display:flex;\n",
              "      flex-wrap:wrap;\n",
              "      gap: 12px;\n",
              "    }\n",
              "\n",
              "    .colab-df-convert {\n",
              "      background-color: #E8F0FE;\n",
              "      border: none;\n",
              "      border-radius: 50%;\n",
              "      cursor: pointer;\n",
              "      display: none;\n",
              "      fill: #1967D2;\n",
              "      height: 32px;\n",
              "      padding: 0 0 0 0;\n",
              "      width: 32px;\n",
              "    }\n",
              "\n",
              "    .colab-df-convert:hover {\n",
              "      background-color: #E2EBFA;\n",
              "      box-shadow: 0px 1px 2px rgba(60, 64, 67, 0.3), 0px 1px 3px 1px rgba(60, 64, 67, 0.15);\n",
              "      fill: #174EA6;\n",
              "    }\n",
              "\n",
              "    [theme=dark] .colab-df-convert {\n",
              "      background-color: #3B4455;\n",
              "      fill: #D2E3FC;\n",
              "    }\n",
              "\n",
              "    [theme=dark] .colab-df-convert:hover {\n",
              "      background-color: #434B5C;\n",
              "      box-shadow: 0px 1px 3px 1px rgba(0, 0, 0, 0.15);\n",
              "      filter: drop-shadow(0px 1px 2px rgba(0, 0, 0, 0.3));\n",
              "      fill: #FFFFFF;\n",
              "    }\n",
              "  </style>\n",
              "\n",
              "      <script>\n",
              "        const buttonEl =\n",
              "          document.querySelector('#df-aa6560ec-d82f-44f5-9690-89b97f18cda1 button.colab-df-convert');\n",
              "        buttonEl.style.display =\n",
              "          google.colab.kernel.accessAllowed ? 'block' : 'none';\n",
              "\n",
              "        async function convertToInteractive(key) {\n",
              "          const element = document.querySelector('#df-aa6560ec-d82f-44f5-9690-89b97f18cda1');\n",
              "          const dataTable =\n",
              "            await google.colab.kernel.invokeFunction('convertToInteractive',\n",
              "                                                     [key], {});\n",
              "          if (!dataTable) return;\n",
              "\n",
              "          const docLinkHtml = 'Like what you see? Visit the ' +\n",
              "            '<a target=\"_blank\" href=https://colab.research.google.com/notebooks/data_table.ipynb>data table notebook</a>'\n",
              "            + ' to learn more about interactive tables.';\n",
              "          element.innerHTML = '';\n",
              "          dataTable['output_type'] = 'display_data';\n",
              "          await google.colab.output.renderOutput(dataTable, element);\n",
              "          const docLink = document.createElement('div');\n",
              "          docLink.innerHTML = docLinkHtml;\n",
              "          element.appendChild(docLink);\n",
              "        }\n",
              "      </script>\n",
              "    </div>\n",
              "  </div>\n",
              "  "
            ]
          },
          "metadata": {},
          "execution_count": 6
        }
      ]
    },
    {
      "cell_type": "code",
      "source": [
        "# แสดงผลลัพธ์ของจำนวนของปัญหาแต่ละประเภท\n",
        "fig = plt.figure()\n",
        "ax = fig.add_axes([0,0,1,1])\n",
        "langs = problem['ปัญหา']\n",
        "students = problem['จำนวน']\n",
        "ax.barh(langs,students)\n",
        "plt.show()"
      ],
      "metadata": {
        "id": "G_sTq1QZLp2I",
        "colab": {
          "base_uri": "https://localhost:8080/",
          "height": 335
        },
        "outputId": "67dd0a71-92ca-41da-affa-ffec6c4c0eae"
      },
      "execution_count": null,
      "outputs": [
        {
          "output_type": "display_data",
          "data": {
            "text/plain": [
              "<Figure size 432x288 with 1 Axes>"
            ],
            "image/png": "[encoded data removed]"
          },
          "metadata": {
            "needs_background": "light"
          }
        }
      ]
    },
    {
      "cell_type": "markdown",
      "source": [
        "จะเห็นได้จากผลลัพธ์ที่กราฟแสดงให้เห็นจำนวนของปัญหาที่ถูกร้องเรียนของปัญหาแต่ละประเภท ชุดข้อมูลนี้นั้น Imbalanced อาจส่งผลให้ขั้นตอนของการทำนายนั้นผิดพลาดได้เพราะจำนวนของแต่ละ class นั้นแตกต่างกันอย่างมาก ดังนั้นจึงต้องดูประสิทธิภาพของ model ด้วยหลาย ๆ ค่าวัดประกอบกัน ซึ่งในการทำ Classification นั้นจะให้น้ำหนักในส่วนของ weighted average เป็นหลัก"
      ],
      "metadata": {
        "id": "aO6fjpFAO76f"
      }
    },
    {
      "cell_type": "markdown",
      "source": [
        "# Text Cleaning"
      ],
      "metadata": {
        "id": "LpEzBfdQO9Re"
      }
    },
    {
      "cell_type": "code",
      "source": [
        "# สร้าง function สำหรับการลบตัวอักษรที่ไม่ต้องการออกไป\n",
        "def clean_msg(msg):\n",
        "  \n",
        "  # ลบ emojiและตัวอักษรที่ไม่ต้องการ\n",
        "  emoj = re.compile(\"[\"\n",
        "        u\"\\U00002700-\\U000027BF\"  # Dingbats\n",
        "        u\"\\U0001F600-\\U0001F64F\"  # Emoticons\n",
        "        u\"\\U00002600-\\U000026FF\"  # Miscellaneous Symbols\n",
        "        u\"\\U0001F300-\\U0001F5FF\"  # Miscellaneous Symbols And Pictographs\n",
        "        u\"\\U0001F900-\\U0001F9FF\"  # Supplemental Symbols and Pictographs\n",
        "        u\"\\U0001FA70-\\U0001FAFF\"  # Symbols and Pictographs Extended-A\n",
        "        u\"\\U0001F680-\\U0001F6FF\"  # Transport and Map Symbols\n",
        "        \"]+\", re.UNICODE)\n",
        "  msg = re.sub(emoj, '', msg)\n",
        "  msg = re.sub(r'<.*?>','', msg)\n",
        "  msg = re.sub('[^ก-์]+', '', msg)\n",
        "  msg = re.sub(r'#','',msg)\n",
        "\n",
        "  All_punct = '''!()-[]{};:'\"\\,<>./?@#$%^&*_~'''\n",
        "  for elements in msg:\n",
        "    if elements in All_punct:\n",
        "      msg = msg.replace(elements, \"\")\n",
        "  # msg = ' '.join(msg.split())\n",
        "\n",
        "  return msg"
      ],
      "metadata": {
        "id": "l3wNFVOyssTA"
      },
      "execution_count": null,
      "outputs": []
    },
    {
      "cell_type": "code",
      "source": [
        "# ใช้ clean function กับข้อความร้องเรียน\n",
        "traffy_clean = [clean_msg(txt) for txt in traffy.issues]"
      ],
      "metadata": {
        "id": "MUr9BYGVs8X6"
      },
      "execution_count": null,
      "outputs": []
    },
    {
      "cell_type": "markdown",
      "source": [
        "# Tokenization"
      ],
      "metadata": {
        "id": "TebtOce8PBOE"
      }
    },
    {
      "cell_type": "code",
      "source": [
        "# สร้าง tokenization function เพื่อจัดการกับข้อความร้องเรียน\n",
        "def token_word(text):\n",
        "\n",
        "    # สร้าง token          \n",
        "    tokens = word_tokenize(text)\n",
        "\n",
        "    # Thai\n",
        "    tokens_temp=[]\n",
        "    for i in tokens:\n",
        "        w_syn = wordnet.synsets(i)\n",
        "        if (len(w_syn)>0) and (len(w_syn[0].lemma_names('tha'))>0):\n",
        "            tokens_temp.append(w_syn[0].lemma_names('tha')[0])\n",
        "        else:\n",
        "            tokens_temp.append(i)\n",
        "    tokens = tokens_temp\n",
        "    \n",
        "    # ลบตัวเลข\n",
        "    tokens = [i for i in tokens if not i.isnumeric()]\n",
        "    \n",
        "    # ลบช่องว่าง\n",
        "    tokens = [i for i in tokens if not ' ' in i]\n",
        "\n",
        "    tokens = [i for i in tokens if pythainlp.util.isthai(text)]\n",
        "\n",
        "    return tokens"
      ],
      "metadata": {
        "id": "ZVTPUXRmxTBP"
      },
      "execution_count": null,
      "outputs": []
    },
    {
      "cell_type": "code",
      "source": [
        "# ใช้ tokenization function กับข้อความร้องเรียน\n",
        "tokens_list = [token_word(txt) for txt in traffy_clean]"
      ],
      "metadata": {
        "id": "T8uCfz6Fxu3g"
      },
      "execution_count": null,
      "outputs": []
    },
    {
      "cell_type": "markdown",
      "source": [
        "# TF-IDF"
      ],
      "metadata": {
        "id": "c0iESp2YPD58"
      }
    },
    {
      "cell_type": "code",
      "source": [
        "# ถ่วงน้ำหนักคำ\n",
        "from sklearn.feature_extraction.text import CountVectorizer, TfidfVectorizer\n",
        "tokens_list_j = [','.join(tkn) for tkn in tokens_list]\n",
        "tvec = TfidfVectorizer(analyzer=lambda x:x.split(','),)\n",
        "tfidf = tvec.fit_transform(tokens_list_j)"
      ],
      "metadata": {
        "id": "Nr9kZpzrgCkA"
      },
      "execution_count": null,
      "outputs": []
    },
    {
      "cell_type": "markdown",
      "source": [
        "# Test/Train Split"
      ],
      "metadata": {
        "id": "yBenzBeEPG3o"
      }
    },
    {
      "cell_type": "code",
      "source": [
        "X = tfidf.toarray()\n",
        "y = np.asarray(traffy[traffy.columns[2:]])"
      ],
      "metadata": {
        "id": "2cSPkVDST-La"
      },
      "execution_count": null,
      "outputs": []
    },
    {
      "cell_type": "code",
      "source": [
        "# แบ่งข้อมูลสำหรับการ train madel โดยกำหนดให้มี train data 70% และ test data 30%\n",
        "X_train, X_test, y_train, y_test = train_test_split(X, y, test_size=0.3, random_state=42)"
      ],
      "metadata": {
        "id": "Auj76xaaBJOw"
      },
      "execution_count": null,
      "outputs": []
    },
    {
      "cell_type": "markdown",
      "source": [
        "# RandomForest\n",
        "\n"
      ],
      "metadata": {
        "id": "NYgXRKp0DROx"
      }
    },
    {
      "cell_type": "markdown",
      "source": [
        "## Default"
      ],
      "metadata": {
        "id": "WCls5-xtDWw7"
      }
    },
    {
      "cell_type": "code",
      "source": [
        "# create a based model\n",
        "rfc = RandomForestClassifier(random_state=42)\n",
        "\n",
        "# fit model\n",
        "rfc.fit(X_train, y_train)\n",
        "\n",
        "# evaluating model\n",
        "rfc_predicted = rfc.predict(X_test)\n",
        "print(classification_report(y_test, rfc_predicted))\n",
        "print('Accuracy = {:0.4f}%.'.format(accuracy_score(y_test, rfc_predicted)*100))"
      ],
      "metadata": {
        "colab": {
          "base_uri": "https://localhost:8080/"
        },
        "id": "yGUtaLG2z0FI",
        "outputId": "0cb32479-9698-4d59-e585-0e68f9f36129"
      },
      "execution_count": null,
      "outputs": [
        {
          "output_type": "stream",
          "name": "stdout",
          "text": [
            "              precision    recall  f1-score   support\n",
            "\n",
            "           0       0.00      0.00      0.00        34\n",
            "           1       0.83      0.22      0.35       309\n",
            "           2       0.00      0.00      0.00        30\n",
            "           3       0.00      0.00      0.00        23\n",
            "           4       0.81      0.23      0.35       530\n",
            "           5       0.61      0.22      0.32       143\n",
            "           6       0.82      0.22      0.35       303\n",
            "           7       0.96      0.19      0.32       119\n",
            "           8       0.93      0.33      0.49       385\n",
            "           9       0.87      0.36      0.51       292\n",
            "          10       1.00      0.07      0.12       121\n",
            "          11       0.97      0.79      0.87       320\n",
            "          12       1.00      0.05      0.10        39\n",
            "          13       0.00      0.00      0.00        16\n",
            "          14       0.68      0.15      0.24       837\n",
            "          15       0.00      0.00      0.00        39\n",
            "          16       0.00      0.00      0.00        32\n",
            "          17       1.00      0.11      0.20        45\n",
            "          18       0.96      0.49      0.65       162\n",
            "          19       0.00      0.00      0.00        10\n",
            "          20       0.00      0.00      0.00        87\n",
            "          21       1.00      0.41      0.58        98\n",
            "          22       0.95      0.76      0.84       270\n",
            "\n",
            "   micro avg       0.87      0.30      0.44      4244\n",
            "   macro avg       0.58      0.20      0.27      4244\n",
            "weighted avg       0.79      0.30      0.41      4244\n",
            " samples avg       0.45      0.34      0.37      4244\n",
            "\n",
            "Accuracy = 22.6232%.\n"
          ]
        },
        {
          "output_type": "stream",
          "name": "stderr",
          "text": [
            "/usr/local/lib/python3.8/dist-packages/sklearn/metrics/_classification.py:1318: UndefinedMetricWarning: Precision and F-score are ill-defined and being set to 0.0 in labels with no predicted samples. Use `zero_division` parameter to control this behavior.\n",
            "  _warn_prf(average, modifier, msg_start, len(result))\n",
            "/usr/local/lib/python3.8/dist-packages/sklearn/metrics/_classification.py:1318: UndefinedMetricWarning: Precision and F-score are ill-defined and being set to 0.0 in samples with no predicted labels. Use `zero_division` parameter to control this behavior.\n",
            "  _warn_prf(average, modifier, msg_start, len(result))\n"
          ]
        }
      ]
    },
    {
      "cell_type": "markdown",
      "source": [
        "RandomForest Default Parametre Model : ให้ค่าความถูกต้องอยู่ที่ 22.6232% และมีค่า weighted avg ของ f1-score อยู่ที่ 41% โดยประมาณ \n",
        "\n"
      ],
      "metadata": {
        "id": "PHg38wRyeDqI"
      }
    },
    {
      "cell_type": "markdown",
      "source": [
        "## Tuning"
      ],
      "metadata": {
        "id": "yEh4IypgDk_3"
      }
    },
    {
      "cell_type": "code",
      "source": [
        "# create a based model\n",
        "rfc = RandomForestClassifier(random_state=42)\n",
        "\n",
        "# create the parameter grid based on the results of random search\n",
        "param_grid = {\n",
        "    'max_features': ['sqrt'],\n",
        "    'criterion' :['gini', 'entropy']\n",
        "}\n",
        "\n",
        "# instantiate the grid search model\n",
        "grid_search = GridSearchCV(estimator = rfc, param_grid = param_grid)\n",
        "\n",
        "# fit the grid search to the data\n",
        "grid_search.fit(X_train, y_train)\n",
        "\n",
        "# get best estimator for voting classifier\n",
        "rfc_best = grid_search.best_estimator_\n",
        "\n",
        "# evaluating model\n",
        "rfc_predicted = rfc_best.predict(X_test)\n",
        "print(classification_report(y_test, rfc_predicted))\n",
        "print('Best Accuracy = {:0.4f}%.'.format(accuracy_score(y_test, rfc_predicted)*100))"
      ],
      "metadata": {
        "colab": {
          "base_uri": "https://localhost:8080/"
        },
        "id": "E8ITi0HK0M8E",
        "outputId": "fbc6d08a-5eec-4174-c9b4-cb9a07194613"
      },
      "execution_count": null,
      "outputs": [
        {
          "output_type": "stream",
          "name": "stdout",
          "text": [
            "              precision    recall  f1-score   support\n",
            "\n",
            "           0       0.00      0.00      0.00        34\n",
            "           1       0.83      0.22      0.35       309\n",
            "           2       0.00      0.00      0.00        30\n",
            "           3       0.00      0.00      0.00        23\n",
            "           4       0.81      0.23      0.35       530\n",
            "           5       0.61      0.22      0.32       143\n",
            "           6       0.82      0.22      0.35       303\n",
            "           7       0.96      0.19      0.32       119\n",
            "           8       0.93      0.33      0.49       385\n",
            "           9       0.87      0.36      0.51       292\n",
            "          10       1.00      0.07      0.12       121\n",
            "          11       0.97      0.79      0.87       320\n",
            "          12       1.00      0.05      0.10        39\n",
            "          13       0.00      0.00      0.00        16\n",
            "          14       0.68      0.15      0.24       837\n",
            "          15       0.00      0.00      0.00        39\n",
            "          16       0.00      0.00      0.00        32\n",
            "          17       1.00      0.11      0.20        45\n",
            "          18       0.96      0.49      0.65       162\n",
            "          19       0.00      0.00      0.00        10\n",
            "          20       0.00      0.00      0.00        87\n",
            "          21       1.00      0.41      0.58        98\n",
            "          22       0.95      0.76      0.84       270\n",
            "\n",
            "   micro avg       0.87      0.30      0.44      4244\n",
            "   macro avg       0.58      0.20      0.27      4244\n",
            "weighted avg       0.79      0.30      0.41      4244\n",
            " samples avg       0.45      0.34      0.37      4244\n",
            "\n",
            "Best Accuracy = 22.6232%.\n"
          ]
        },
        {
          "output_type": "stream",
          "name": "stderr",
          "text": [
            "/usr/local/lib/python3.8/dist-packages/sklearn/metrics/_classification.py:1318: UndefinedMetricWarning: Precision and F-score are ill-defined and being set to 0.0 in labels with no predicted samples. Use `zero_division` parameter to control this behavior.\n",
            "  _warn_prf(average, modifier, msg_start, len(result))\n",
            "/usr/local/lib/python3.8/dist-packages/sklearn/metrics/_classification.py:1318: UndefinedMetricWarning: Precision and F-score are ill-defined and being set to 0.0 in samples with no predicted labels. Use `zero_division` parameter to control this behavior.\n",
            "  _warn_prf(average, modifier, msg_start, len(result))\n"
          ]
        }
      ]
    },
    {
      "cell_type": "markdown",
      "source": [
        "RandomForest Tuning Parametre Model : ให้ค่าความถูกต้องอยู่ที่ 22.6232% และมีค่า weighted avg ของ f1-score อยู่ที่ 41% โดยประมาณ ซึ่งมีค่าเท่ากับ RandomForest Tuning Parametre Model นั้นแปลว่า Parametre ที่เลือกมา Tuning นั้นยังไม่เหมาะสมมากพอที่จะเพิ่มประสิทธิภาพของ Model"
      ],
      "metadata": {
        "id": "ybhiKfeme4uT"
      }
    },
    {
      "cell_type": "markdown",
      "source": [
        "## Cross Validation"
      ],
      "metadata": {
        "id": "x9oTkjnbDtM5"
      }
    },
    {
      "cell_type": "code",
      "source": [
        "# cross validation 5 folds\n",
        "all_accuracy = cross_val_score(rfc_best, X, y, cv=5)\n",
        "all_f1macro = cross_val_score(rfc_best, X, y, scoring=\"f1_macro\", cv=5)\n",
        "all_f1weighted = cross_val_score(rfc_best, X, y, scoring=\"f1_weighted\", cv=5)\n",
        "all_hamming = cross_val_score(rfc_best, X, y, scoring = make_scorer(hamming_loss,greater_is_better=False), cv=5)\n",
        "print('Mean Accuracy = {:0.4f}%.'.format(all_accuracy.mean()*100))\n",
        "print('Mean f1macro = {:0.4f}%.'.format(all_f1macro.mean()*100))\n",
        "print('Mean f1weighted = {:0.4f}%.'.format(all_f1weighted.mean()*100))\n",
        "print('Mean hamming = {:0.4f}%.'.format(all_hamming.mean()*100))"
      ],
      "metadata": {
        "colab": {
          "base_uri": "https://localhost:8080/"
        },
        "id": "ISVd0nJCyy9O",
        "outputId": "395ba12d-1778-4dd3-fac4-33d324ead608"
      },
      "execution_count": null,
      "outputs": [
        {
          "output_type": "stream",
          "name": "stdout",
          "text": [
            "Mean Accuracy = 21.4929%.\n",
            "Mean f1macro = 26.6089%.\n",
            "Mean f1macro = 38.9399%.\n",
            "Mean hamming = -5.4726%.\n"
          ]
        }
      ]
    },
    {
      "cell_type": "markdown",
      "source": [
        "จากการแบ่งชุดข้อมูลออกเป็น 5 ส่วนและทำการ train ทุกชุดข้อมูลนั้น\n",
        "พบว่าเมื่อเฉลี่ยค่าต่าง ๆ ที่สนใจแล้วนั้นเป็นดังข้างต้น ซึ่งคือประสิทธิภาพโดยรวมของ RandomForest Model"
      ],
      "metadata": {
        "id": "38iLbygwfmPq"
      }
    },
    {
      "cell_type": "markdown",
      "source": [
        "# DecisionTree"
      ],
      "metadata": {
        "id": "i5JJRsGuCFFm"
      }
    },
    {
      "cell_type": "markdown",
      "source": [
        "## Default"
      ],
      "metadata": {
        "id": "098xvsB2Dzqa"
      }
    },
    {
      "cell_type": "code",
      "source": [
        "# create a based model\n",
        "dtc = DecisionTreeClassifier(random_state=42)\n",
        "\n",
        "# fit model\n",
        "dtc.fit(X_train, y_train)\n",
        "\n",
        "# evaluating model\n",
        "dtc_predicted = dtc.predict(X_test)\n",
        "print(classification_report(y_test, dtc_predicted))\n",
        "print('Accuracy = {:0.4f}%.'.format(accuracy_score(y_test, dtc_predicted)*100))"
      ],
      "metadata": {
        "colab": {
          "base_uri": "https://localhost:8080/"
        },
        "id": "72qAnUM-zGXJ",
        "outputId": "a0e29152-2914-44ca-9959-40bfd39c7606"
      },
      "execution_count": null,
      "outputs": [
        {
          "output_type": "stream",
          "name": "stdout",
          "text": [
            "              precision    recall  f1-score   support\n",
            "\n",
            "           0       0.06      0.06      0.06        34\n",
            "           1       0.51      0.51      0.51       309\n",
            "           2       0.35      0.20      0.26        30\n",
            "           3       0.24      0.22      0.23        23\n",
            "           4       0.57      0.52      0.54       530\n",
            "           5       0.51      0.51      0.51       143\n",
            "           6       0.51      0.47      0.49       303\n",
            "           7       0.63      0.65      0.64       119\n",
            "           8       0.59      0.58      0.59       385\n",
            "           9       0.72      0.68      0.70       292\n",
            "          10       0.55      0.43      0.48       121\n",
            "          11       0.87      0.88      0.87       320\n",
            "          12       0.47      0.46      0.47        39\n",
            "          13       0.00      0.00      0.00        16\n",
            "          14       0.40      0.39      0.40       837\n",
            "          15       0.26      0.18      0.21        39\n",
            "          16       0.17      0.16      0.16        32\n",
            "          17       0.71      0.71      0.71        45\n",
            "          18       0.77      0.73      0.75       162\n",
            "          19       0.50      0.10      0.17        10\n",
            "          20       0.15      0.07      0.10        87\n",
            "          21       0.85      0.78      0.81        98\n",
            "          22       0.80      0.85      0.83       270\n",
            "\n",
            "   micro avg       0.58      0.55      0.56      4244\n",
            "   macro avg       0.49      0.44      0.46      4244\n",
            "weighted avg       0.57      0.55      0.55      4244\n",
            " samples avg       0.60      0.58      0.56      4244\n",
            "\n",
            "Accuracy = 26.4261%.\n"
          ]
        }
      ]
    },
    {
      "cell_type": "markdown",
      "source": [
        "DecisionTree Default Parametre Model : ให้ค่าความถูกต้องอยู่ที่ 26.4261% และมีค่า weighted avg ของ f1-score อยู่ที่ 55% โดยประมาณ"
      ],
      "metadata": {
        "id": "cfDqA6FOh5o9"
      }
    },
    {
      "cell_type": "markdown",
      "source": [
        "## Tuning"
      ],
      "metadata": {
        "id": "4yZEjcx3FEba"
      }
    },
    {
      "cell_type": "code",
      "source": [
        "# create a based model\n",
        "dtc = DecisionTreeClassifier(random_state=42)\n",
        "\n",
        "# create the parameter grid based on the results of random search\n",
        "param_grid = {'max_features': ['auto', 'sqrt', 'log2'],\n",
        "              'ccp_alpha': [0.1, .01, .001],\n",
        "              'max_depth' : [5, 6, 7, 8, 9],\n",
        "              'criterion' :['gini', 'entropy']}\n",
        "\n",
        "# instantiate the grid search model\n",
        "grid_search = GridSearchCV(estimator = dtc, param_grid = param_grid)\n",
        "\n",
        "# fit the grid search to the data\n",
        "grid_search.fit(X_train, y_train)\n",
        "\n",
        "# get best estimator for voting classifier\n",
        "dtc_best = grid_search.best_estimator_\n",
        "\n",
        "# evaluating model\n",
        "dtc_predicted = dtc_best.predict(X_test)\n",
        "print(classification_report(y_test, dtc_predicted))\n",
        "print('Best Accuracy = {:0.4f}%.'.format(accuracy_score(y_test, dtc_predicted)*100))"
      ],
      "metadata": {
        "colab": {
          "base_uri": "https://localhost:8080/"
        },
        "id": "UVKkEHpd3fou",
        "outputId": "81481486-5572-4143-dd2c-6fa785cd1606"
      },
      "execution_count": null,
      "outputs": [
        {
          "output_type": "stream",
          "name": "stdout",
          "text": [
            "              precision    recall  f1-score   support\n",
            "\n",
            "           0       0.00      0.00      0.00        34\n",
            "           1       0.00      0.00      0.00       309\n",
            "           2       0.00      0.00      0.00        30\n",
            "           3       0.00      0.00      0.00        23\n",
            "           4       0.00      0.00      0.00       530\n",
            "           5       0.00      0.00      0.00       143\n",
            "           6       0.00      0.00      0.00       303\n",
            "           7       0.00      0.00      0.00       119\n",
            "           8       0.60      0.05      0.09       385\n",
            "           9       0.00      0.00      0.00       292\n",
            "          10       0.00      0.00      0.00       121\n",
            "          11       0.46      0.05      0.09       320\n",
            "          12       0.00      0.00      0.00        39\n",
            "          13       0.00      0.00      0.00        16\n",
            "          14       0.46      0.02      0.04       837\n",
            "          15       0.00      0.00      0.00        39\n",
            "          16       0.00      0.00      0.00        32\n",
            "          17       0.56      0.22      0.32        45\n",
            "          18       0.87      0.75      0.81       162\n",
            "          19       0.00      0.00      0.00        10\n",
            "          20       0.00      0.00      0.00        87\n",
            "          21       0.82      0.29      0.42        98\n",
            "          22       0.00      0.00      0.00       270\n",
            "\n",
            "   micro avg       0.72      0.05      0.09      4244\n",
            "   macro avg       0.16      0.06      0.08      4244\n",
            "weighted avg       0.24      0.05      0.07      4244\n",
            " samples avg       0.08      0.05      0.06      4244\n",
            "\n",
            "Best Accuracy = 3.3372%.\n"
          ]
        },
        {
          "output_type": "stream",
          "name": "stderr",
          "text": [
            "/usr/local/lib/python3.8/dist-packages/sklearn/metrics/_classification.py:1318: UndefinedMetricWarning: Precision and F-score are ill-defined and being set to 0.0 in labels with no predicted samples. Use `zero_division` parameter to control this behavior.\n",
            "  _warn_prf(average, modifier, msg_start, len(result))\n",
            "/usr/local/lib/python3.8/dist-packages/sklearn/metrics/_classification.py:1318: UndefinedMetricWarning: Precision and F-score are ill-defined and being set to 0.0 in samples with no predicted labels. Use `zero_division` parameter to control this behavior.\n",
            "  _warn_prf(average, modifier, msg_start, len(result))\n"
          ]
        }
      ]
    },
    {
      "cell_type": "markdown",
      "source": [
        "DecisionTree Tuning Parametre Model : ให้ค่าความถูกต้องอยู่ที่ 3.3372% และมีค่า weighted avg ของ f1-score อยู่ที่ 7% โดยประมาณ นั้นแปลว่า Parametre ที่เลือกมา Tuningนั้นไม่เหมาะสมกับชุดข้อมูลทำให้ลดประสิทธิภาพของ Model ลง"
      ],
      "metadata": {
        "id": "y0D7ofooiTyx"
      }
    },
    {
      "cell_type": "markdown",
      "source": [
        "## Cross Validation"
      ],
      "metadata": {
        "id": "QeR3aUfsFPrw"
      }
    },
    {
      "cell_type": "code",
      "source": [
        "# cross validation 5 folds\n",
        "all_accuracy = cross_val_score(dtc_best, X, y, cv=5)\n",
        "all_f1macro = cross_val_score(dtc_best, X, y, scoring=\"f1_macro\", cv=5)\n",
        "all_f1weighted = cross_val_score(dtc_best, X, y, scoring=\"f1_weighted\", cv=5)\n",
        "all_hamming = cross_val_score(dtc_best, X, y, scoring = make_scorer(hamming_loss,greater_is_better=False), cv=5)\n",
        "print('Mean Accuracy = {:0.4f}%.'.format(all_accuracy.mean()*100))\n",
        "print('Mean f1macro = {:0.4f}%.'.format(all_f1macro.mean()*100))\n",
        "print('Mean f1weighted = {:0.4f}%.'.format(all_f1weighted.mean()*100))\n",
        "print('Mean hamming = {:0.4f}%.'.format(all_hamming.mean()*100))"
      ],
      "metadata": {
        "colab": {
          "base_uri": "https://localhost:8080/"
        },
        "id": "7CqVlcauFDoY",
        "outputId": "066a3ac2-5b32-4e55-81ec-7e1f9cddbaa5"
      },
      "execution_count": null,
      "outputs": [
        {
          "output_type": "stream",
          "name": "stdout",
          "text": [
            "Mean Accuracy = 3.3878%.\n",
            "Mean f1macro = 7.2714%.\n",
            "Mean f1macro = 7.7598%.\n",
            "Mean hamming = -6.9513%.\n"
          ]
        }
      ]
    },
    {
      "cell_type": "markdown",
      "source": [
        "จากการแบ่งชุดข้อมูลออกเป็น 5 ส่วนและทำการ train ทุกชุดข้อมูลนั้น พบว่าเมื่อเฉลี่ยค่าต่าง ๆ ที่สนใจแล้วนั้นเป็นดังข้างต้น ซึ่งคือประสิทธิภาพโดยรวมของ DecisionTree Model"
      ],
      "metadata": {
        "id": "2lfDSNC_i0ND"
      }
    },
    {
      "cell_type": "markdown",
      "source": [
        "# KNN"
      ],
      "metadata": {
        "id": "wuCuaIZUFZwB"
      }
    },
    {
      "cell_type": "markdown",
      "source": [
        "## Default"
      ],
      "metadata": {
        "id": "C0_Pwa_jFb9K"
      }
    },
    {
      "cell_type": "code",
      "source": [
        "# create a based model\n",
        "knn = KNeighborsClassifier()\n",
        "\n",
        "# fit model\n",
        "knn.fit(X_train, y_train)\n",
        "\n",
        "# evaluating model\n",
        "knn_predicted = knn.predict(X_test)\n",
        "print(classification_report(y_test, knn_predicted))\n",
        "print('Accuracy = {:0.4f}%.'.format(accuracy_score(y_test, knn_predicted)*100))"
      ],
      "metadata": {
        "colab": {
          "base_uri": "https://localhost:8080/"
        },
        "id": "qEd2mKfnFoB0",
        "outputId": "fcc60e8a-cf0c-4911-be21-b7183c8a1598"
      },
      "execution_count": null,
      "outputs": [
        {
          "output_type": "stream",
          "name": "stdout",
          "text": [
            "              precision    recall  f1-score   support\n",
            "\n",
            "           0       0.00      0.00      0.00        34\n",
            "           1       0.74      0.48      0.58       309\n",
            "           2       0.89      0.27      0.41        30\n",
            "           3       0.22      0.09      0.12        23\n",
            "           4       0.58      0.30      0.40       530\n",
            "           5       0.58      0.35      0.44       143\n",
            "           6       0.63      0.37      0.47       303\n",
            "           7       0.77      0.37      0.50       119\n",
            "           8       0.71      0.37      0.49       385\n",
            "           9       0.75      0.44      0.56       292\n",
            "          10       0.65      0.29      0.40       121\n",
            "          11       0.80      0.76      0.78       320\n",
            "          12       1.00      0.28      0.44        39\n",
            "          13       0.50      0.12      0.20        16\n",
            "          14       0.43      0.29      0.34       837\n",
            "          15       0.33      0.03      0.05        39\n",
            "          16       0.50      0.16      0.24        32\n",
            "          17       0.90      0.62      0.74        45\n",
            "          18       0.87      0.68      0.76       162\n",
            "          19       1.00      0.10      0.18        10\n",
            "          20       0.50      0.01      0.02        87\n",
            "          21       0.91      0.43      0.58        98\n",
            "          22       0.81      0.71      0.76       270\n",
            "\n",
            "   micro avg       0.66      0.40      0.50      4244\n",
            "   macro avg       0.66      0.33      0.41      4244\n",
            "weighted avg       0.65      0.40      0.48      4244\n",
            " samples avg       0.51      0.43      0.44      4244\n",
            "\n",
            "Accuracy = 22.1187%.\n"
          ]
        },
        {
          "output_type": "stream",
          "name": "stderr",
          "text": [
            "/usr/local/lib/python3.8/dist-packages/sklearn/metrics/_classification.py:1318: UndefinedMetricWarning: Precision and F-score are ill-defined and being set to 0.0 in labels with no predicted samples. Use `zero_division` parameter to control this behavior.\n",
            "  _warn_prf(average, modifier, msg_start, len(result))\n",
            "/usr/local/lib/python3.8/dist-packages/sklearn/metrics/_classification.py:1318: UndefinedMetricWarning: Precision and F-score are ill-defined and being set to 0.0 in samples with no predicted labels. Use `zero_division` parameter to control this behavior.\n",
            "  _warn_prf(average, modifier, msg_start, len(result))\n"
          ]
        }
      ]
    },
    {
      "cell_type": "markdown",
      "source": [
        "KNN Default Parametre Model : ให้ค่าความถูกต้องอยู่ที่ 22.1187% และมีค่า weighted avg ของ f1-score อยู่ที่ 48% โดยประมาณ"
      ],
      "metadata": {
        "id": "lswUOZ-0jNtn"
      }
    },
    {
      "cell_type": "markdown",
      "source": [
        "## Tuning"
      ],
      "metadata": {
        "id": "UuGJZOicFvrI"
      }
    },
    {
      "cell_type": "code",
      "source": [
        "# create a based model\n",
        "knn = KNeighborsClassifier()\n",
        "\n",
        "# create the parameter grid based on the results of random search\n",
        "param_grid = {'n_neighbors': [1, 2, 3, 4, 5, 6, 7, 8, 9, 10]}\n",
        "\n",
        "# instantiate the grid search model\n",
        "grid_search = GridSearchCV(estimator = knn, param_grid = param_grid)\n",
        "\n",
        "# fit the grid search to the data\n",
        "grid_search.fit(X_train, y_train)\n",
        "\n",
        "# get best estimator for voting classifier\n",
        "knn_best = grid_search.best_estimator_\n",
        "\n",
        "# evaluating model\n",
        "knn_predicted = knn_best.predict(X_test)\n",
        "print(classification_report(y_test, knn_predicted))\n",
        "print('Best Accuracy = {:0.4f}%.'.format(accuracy_score(y_test, knn_predicted)*100))"
      ],
      "metadata": {
        "id": "qenAa41CCKiC",
        "colab": {
          "base_uri": "https://localhost:8080/"
        },
        "outputId": "324e164a-8486-4c32-d8eb-6e51a603f34c"
      },
      "execution_count": null,
      "outputs": [
        {
          "output_type": "stream",
          "name": "stdout",
          "text": [
            "              precision    recall  f1-score   support\n",
            "\n",
            "           0       0.00      0.00      0.00        34\n",
            "           1       0.72      0.45      0.55       309\n",
            "           2       0.67      0.07      0.12        30\n",
            "           3       0.29      0.09      0.13        23\n",
            "           4       0.62      0.28      0.38       530\n",
            "           5       0.62      0.35      0.45       143\n",
            "           6       0.68      0.35      0.46       303\n",
            "           7       0.87      0.38      0.53       119\n",
            "           8       0.79      0.37      0.51       385\n",
            "           9       0.78      0.39      0.52       292\n",
            "          10       0.73      0.29      0.41       121\n",
            "          11       0.87      0.77      0.82       320\n",
            "          12       0.91      0.26      0.40        39\n",
            "          13       1.00      0.06      0.12        16\n",
            "          14       0.46      0.26      0.33       837\n",
            "          15       1.00      0.03      0.05        39\n",
            "          16       0.50      0.16      0.24        32\n",
            "          17       0.87      0.58      0.69        45\n",
            "          18       0.89      0.65      0.75       162\n",
            "          19       0.00      0.00      0.00        10\n",
            "          20       1.00      0.01      0.02        87\n",
            "          21       0.95      0.41      0.57        98\n",
            "          22       0.86      0.71      0.78       270\n",
            "\n",
            "   micro avg       0.71      0.38      0.50      4244\n",
            "   macro avg       0.70      0.30      0.38      4244\n",
            "weighted avg       0.70      0.38      0.48      4244\n",
            " samples avg       0.50      0.41      0.43      4244\n",
            "\n",
            "Best Accuracy = 22.5068%.\n"
          ]
        },
        {
          "output_type": "stream",
          "name": "stderr",
          "text": [
            "/usr/local/lib/python3.8/dist-packages/sklearn/metrics/_classification.py:1318: UndefinedMetricWarning: Precision and F-score are ill-defined and being set to 0.0 in labels with no predicted samples. Use `zero_division` parameter to control this behavior.\n",
            "  _warn_prf(average, modifier, msg_start, len(result))\n",
            "/usr/local/lib/python3.8/dist-packages/sklearn/metrics/_classification.py:1318: UndefinedMetricWarning: Precision and F-score are ill-defined and being set to 0.0 in samples with no predicted labels. Use `zero_division` parameter to control this behavior.\n",
            "  _warn_prf(average, modifier, msg_start, len(result))\n"
          ]
        }
      ]
    },
    {
      "cell_type": "markdown",
      "source": [
        "KNN Tuning Parametre Model : ให้ค่าความถูกต้องอยู่ที่ 22.5068% และมีค่า weighted avg ของ f1-score อยู่ที่ 48% โดยประมาณ นั้นแปลว่า Parametre ที่เลือกมา Tuning สามารถเพิ่มประสิทธิภาพของ Model ได้เล็กน้อย"
      ],
      "metadata": {
        "id": "sw9jAeIyjZWL"
      }
    },
    {
      "cell_type": "markdown",
      "source": [
        "## Cross Validation"
      ],
      "metadata": {
        "id": "VPYazxxdFxYQ"
      }
    },
    {
      "cell_type": "code",
      "source": [
        "# cross validation 5 folds\n",
        "all_accuracy = cross_val_score(knn_best, X, y, cv=5)\n",
        "all_f1macro = cross_val_score(knn_best, X, y, scoring=\"f1_macro\", cv=5)\n",
        "all_f1weighted = cross_val_score(knn_best, X, y, scoring=\"f1_weighted\", cv=5)\n",
        "all_hamming = cross_val_score(knn_best, X, y, scoring = make_scorer(hamming_loss,greater_is_better=False), cv=5)\n",
        "print('Mean Accuracy = {:0.4f}%.'.format(all_accuracy.mean()*100))\n",
        "print('Mean f1macro = {:0.4f}%.'.format(all_f1macro.mean()*100))\n",
        "print('Mean f1weighted = {:0.4f}%.'.format(all_f1weighted.mean()*100))\n",
        "print('Mean hamming = {:0.4f}%.'.format(all_hamming.mean()*100))"
      ],
      "metadata": {
        "colab": {
          "base_uri": "https://localhost:8080/"
        },
        "id": "Nr0aW9i_GPXm",
        "outputId": "11842da3-52aa-49b8-f706-9f8eb943083e"
      },
      "execution_count": null,
      "outputs": [
        {
          "output_type": "stream",
          "name": "stdout",
          "text": [
            "Mean Accuracy = 20.5263%.\n",
            "Mean f1macro = 37.4259%.\n",
            "Mean f1macro = 46.0316%.\n",
            "Mean hamming = -5.7966%.\n"
          ]
        }
      ]
    },
    {
      "cell_type": "markdown",
      "source": [
        "จากการแบ่งชุดข้อมูลออกเป็น 5 ส่วนและทำการ train ทุกชุดข้อมูลนั้น พบว่าเมื่อเฉลี่ยค่าต่าง ๆ ที่สนใจแล้วนั้นเป็นดังข้างต้น ซึ่งคือประสิทธิภาพโดยรวมของ KNN Model"
      ],
      "metadata": {
        "id": "2KYbMnOAjyj0"
      }
    },
    {
      "cell_type": "markdown",
      "source": [
        "# Summary"
      ],
      "metadata": {
        "id": "sOCLqf0IkZfA"
      }
    },
    {
      "cell_type": "markdown",
      "source": [
        "**เทียบค่าเฉลี่ยที่สนใจจากทั้ง 3 Model**\n",
        "\n",
        "**RandomForest**\n",
        "\n",
        "Mean Accuracy = 21.4929%\n",
        "Mean Weighted = 38.9399%\n",
        "\n",
        ".\n",
        "\n",
        "**DecisionTree**\n",
        "\n",
        "Mean Accuracy = 3.3878% \n",
        "Mean Weighted = 7.7598%\n",
        "\n",
        ".\n",
        "\n",
        "**KNN Model**\n",
        "\n",
        "Mean Accuracy = 20.5263%\n",
        "Mean Weighted = 46.0316%\n",
        "\n",
        ".\n",
        "\n",
        "**เรียงประสิทธิภาพ Model ได้ดังนี้**\n",
        "\n",
        "KNN Model > RandomForest Model > DecisionTree Model\n",
        "\n",
        "ถึงแม้ว่า KNN Model จะมีค่าความถูกต้องน้อยกว่า RandomForest Model แต่มีค่า Weighted AVG ที่สมเหตุสมกับชุดข้อมูลที่ Imbalanced มากกว่า ดังนั้น KNN Model จึงเป็น Model ที่ดีที่สุด\n"
      ],
      "metadata": {
        "id": "8qbgWbmfkwJa"
      }
    }
  ]
}